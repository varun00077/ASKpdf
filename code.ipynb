{
 "cells": [
  {
   "cell_type": "code",
   "execution_count": null,
   "id": "1321a9f5",
   "metadata": {},
   "outputs": [],
   "source": [
    "import openai\n",
    "import langchain\n",
    "import pinecone\n",
    "\n",
    "from langchain.document_loaders import PyPDFDirectoryLoader,PyPDFLoader\n",
    "from langchain.text_splitter import RecursiveCharacterTextSplitter\n",
    "from langchain.embeddings.openai import OpenAIEmbeddings\n",
    "from langchain_community.embeddings import HuggingFaceEmbeddings \n",
    "from langchain.vectorstores import Pinecone\n"
   ]
  },
  {
   "cell_type": "code",
   "execution_count": null,
   "id": "94fba00e",
   "metadata": {},
   "outputs": [],
   "source": [
    "from langchain.llms import OpenAI"
   ]
  },
  {
   "cell_type": "code",
   "execution_count": null,
   "id": "184d709c",
   "metadata": {},
   "outputs": [],
   "source": [
    "from dotenv import load_dotenv\n",
    "load_dotenv()"
   ]
  },
  {
   "cell_type": "code",
   "execution_count": null,
   "id": "41172b9b",
   "metadata": {},
   "outputs": [],
   "source": [
    "import os"
   ]
  },
  {
   "cell_type": "code",
   "execution_count": null,
   "id": "51b7f26d",
   "metadata": {},
   "outputs": [],
   "source": [
    "\n",
    "def read_doc(directory):\n",
    "    file_loader = PyPDFDirectoryLoader(directory)\n",
    "    documents= file_loader.load()\n",
    "    return documents"
   ]
  },
  {
   "cell_type": "code",
   "execution_count": null,
   "id": "2ec4bae7",
   "metadata": {},
   "outputs": [],
   "source": [
    "doc = read_doc('documents/')\n",
    "doc\n"
   ]
  },
  {
   "cell_type": "code",
   "execution_count": null,
   "id": "9f20ddad",
   "metadata": {},
   "outputs": [],
   "source": [
    "\n",
    "def chunk_data(docs,chunk_size =800,overlap =50):\n",
    "    text_splitter = RecursiveCharacterTextSplitter(chunk_size = chunk_size,chunk_overlap = overlap)\n",
    "    docs = text_splitter.split_documents(docs)\n",
    "    return docs"
   ]
  },
  {
   "cell_type": "code",
   "execution_count": null,
   "id": "4b20a2a3",
   "metadata": {},
   "outputs": [],
   "source": [
    "chunk_data(doc)\n"
   ]
  },
  {
   "cell_type": "code",
   "execution_count": null,
   "id": "133e9b2e",
   "metadata": {},
   "outputs": [],
   "source": [
    "len(doc)"
   ]
  },
  {
   "cell_type": "code",
   "execution_count": null,
   "id": "1df63229",
   "metadata": {},
   "outputs": [],
   "source": [
    "#embedding technique of openai\n",
    "embeddings = HuggingFaceEmbeddings(model_name=\"sentence-transformers/all-MiniLM-L6-v2\")\n",
    "\n",
    "embeddings"
   ]
  },
  {
   "cell_type": "code",
   "execution_count": null,
   "id": "88dfcb26",
   "metadata": {},
   "outputs": [],
   "source": [
    "vectors = embeddings.embed_query('how  are u')\n",
    "vectors"
   ]
  },
  {
   "cell_type": "code",
   "execution_count": null,
   "id": "92e821ff",
   "metadata": {},
   "outputs": [],
   "source": [
    "len(vectors)"
   ]
  },
  {
   "cell_type": "code",
   "execution_count": null,
   "id": "df635af7",
   "metadata": {},
   "outputs": [],
   "source": [
    "#vector search_db \n"
   ]
  },
  {
   "cell_type": "code",
   "execution_count": null,
   "id": "04b23697",
   "metadata": {},
   "outputs": [],
   "source": [
    "from dotenv import load_dotenv\n",
    "import os\n",
    "\n",
    "from pinecone import Pinecone\n",
    "\n",
    "PINECONE_API_KEY = os.getenv(\"PINECONE_API_KEY\")\n",
    "\n",
    "pc = Pinecone(\n",
    "    api_key=PINECONE_API_KEY\n",
    "    )\n",
    "index = pc.Index(\"langchainbudget\")"
   ]
  },
  {
   "cell_type": "code",
   "execution_count": null,
   "id": "58d9c5b7",
   "metadata": {},
   "outputs": [],
   "source": [
    "from langchain_pinecone import PineconeVectorStore"
   ]
  },
  {
   "cell_type": "code",
   "execution_count": null,
   "id": "5481b09a",
   "metadata": {},
   "outputs": [],
   "source": [
    "vectorstore = PineconeVectorStore.from_documents(\n",
    "    documents=doc,\n",
    "    embedding=embeddings,\n",
    "    index_name=\"langchainbudget\"  # <-- pass the name as string\n",
    ")\n"
   ]
  },
  {
   "cell_type": "code",
   "execution_count": null,
   "id": "1749ca5c",
   "metadata": {},
   "outputs": [],
   "source": [
    "#cosine similarity from vector DB\n",
    "def retrieve_query(query,k=1):\n",
    "    matching_results = vectorstore.similarity_search(query,k=k)\n",
    "    return matching_results"
   ]
  },
  {
   "cell_type": "code",
   "execution_count": null,
   "id": "2db1c68d",
   "metadata": {},
   "outputs": [],
   "source": [
    "from langchain.chains.question_answering import load_qa_chain\n",
    "from langchain_community import Groq"
   ]
  },
  {
   "cell_type": "code",
   "execution_count": null,
   "id": "e00078f1",
   "metadata": {},
   "outputs": [],
   "source": [
    "retriever = vectorstore.as_retriever(search_kwargs={\"k\": 3})"
   ]
  },
  {
   "cell_type": "code",
   "execution_count": null,
   "id": "cf35ec57",
   "metadata": {},
   "outputs": [],
   "source": [
    "from langchain_groq import ChatGroq\n",
    "from dotenv import load_dotenv\n",
    "import os\n",
    "GROQ_API_KEY = os.getenv(\"GROQ_API_KEY\")\n",
    "llm = ChatGroq(\n",
    "    model=\"meta-llama/llama-4-maverick-17b-128e-instruct\",  \n",
    "    groq_api_key=GROQ_API_KEY,\n",
    "    temperature=0.2\n",
    ")\n"
   ]
  },
  {
   "cell_type": "code",
   "execution_count": null,
   "id": "3812e2ce",
   "metadata": {},
   "outputs": [],
   "source": [
    "from langchain.chains import RetrievalQA\n",
    "\n",
    "qa_chain = RetrievalQA.from_chain_type(\n",
    "    llm=llm,\n",
    "    retriever=retriever,\n",
    "    chain_type=\"stuff\"  # can also use \"refine\" or \"map_reduce\"\n",
    ")\n",
    "\n",
    "query = \"What is agricultural budget?\"\n",
    "answer = qa_chain.run(query)\n",
    "print(answer)\n"
   ]
  }
 ],
 "metadata": {
  "kernelspec": {
   "display_name": "quiz",
   "language": "python",
   "name": "python3"
  },
  "language_info": {
   "codemirror_mode": {
    "name": "ipython",
    "version": 3
   },
   "file_extension": ".py",
   "mimetype": "text/x-python",
   "name": "python",
   "nbconvert_exporter": "python",
   "pygments_lexer": "ipython3",
   "version": "3.13.9"
  }
 },
 "nbformat": 4,
 "nbformat_minor": 5
}
